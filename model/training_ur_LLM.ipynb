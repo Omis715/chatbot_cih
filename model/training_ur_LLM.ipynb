{
  "nbformat": 4,
  "nbformat_minor": 0,
  "metadata": {
    "colab": {
      "provenance": []
    },
    "kernelspec": {
      "name": "python3",
      "display_name": "Python 3"
    },
    "language_info": {
      "name": "python"
    }
  },
  "cells": [
    {
      "cell_type": "markdown",
      "source": [
        "\n",
        "\n",
        "This code below is the one used for training and saving your model there's something to change in this code it will be commented but let sum up:\n",
        "\n",
        "*    Change data if you want to\n",
        "*    Testing : change the value in message to test another question\n",
        "*    Saving put your username(huggingface),name your model and your token (huggingface)\n",
        "Hugging Face provides an Inference API, which allows users to deploy models as APIs\n"
      ],
      "metadata": {
        "id": "m3SskW3PIcAL"
      }
    },
    {
      "cell_type": "markdown",
      "source": [
        "# **Install requirements**"
      ],
      "metadata": {
        "id": "uC2Xs3M__yU4"
      }
    },
    {
      "cell_type": "code",
      "execution_count": null,
      "metadata": {
        "id": "IMXcr3Sw_W9Y"
      },
      "outputs": [],
      "source": [
        "!mamba install --force-reinstall aiohttp -y\n",
        "!pip install -U \"xformers<0.0.26\" --index-url https://download.pytorch.org/whl/cu121\n",
        "!pip install \"unsloth[kaggle-new] @ git+https://github.com/unslothai/unsloth.git\"\n",
        "\n",
        "# Temporary fix for https://github.com/huggingface/datasets/issues/6753\n",
        "!pip install datasets==2.16.0 fsspec==2023.10.0 gcsfs==2023.10.0\n",
        "!pip install --no-deps xformers \"trl<0.9.0\" peft accelerate bitsandbytes\n",
        "\n",
        "import os\n",
        "os.environ[\"WANDB_DISABLED\"] = \"true\""
      ]
    },
    {
      "cell_type": "markdown",
      "source": [
        "#**Download our base model**"
      ],
      "metadata": {
        "id": "TiH4a0ktAB-A"
      }
    },
    {
      "cell_type": "code",
      "source": [
        "from unsloth import FastLanguageModel\n",
        "import torch\n",
        "max_seq_length = 2048\n",
        "dtype = None\n",
        "load_in_4bit = True\n",
        "\n",
        "\n",
        "model, tokenizer = FastLanguageModel.from_pretrained(\n",
        "    model_name = \"unsloth/Phi-3-medium-4k-instruct\",\n",
        "    max_seq_length = max_seq_length,\n",
        "    dtype = dtype,\n",
        "    load_in_4bit = load_in_4bit,\n",
        "\n",
        ")"
      ],
      "metadata": {
        "id": "Gqhhagn7_7v3"
      },
      "execution_count": null,
      "outputs": []
    },
    {
      "cell_type": "markdown",
      "source": [
        "#**Hyperparameter for peft model**"
      ],
      "metadata": {
        "id": "ROoFkoEZAXRB"
      }
    },
    {
      "cell_type": "code",
      "source": [
        "model = FastLanguageModel.get_peft_model(\n",
        "    model,\n",
        "    r = 16,\n",
        "    target_modules = [\"q_proj\", \"k_proj\", \"v_proj\", \"o_proj\",\n",
        "                      \"gate_proj\", \"up_proj\", \"down_proj\",],\n",
        "    lora_alpha = 16,\n",
        "    lora_dropout = 0,\n",
        "    bias = \"none\",\n",
        "    use_gradient_checkpointing = \"unsloth\",\n",
        "    random_state = 3407,\n",
        "    use_rslora = False,\n",
        "    loftq_config = None,\n",
        ")"
      ],
      "metadata": {
        "id": "aAgIbcM9Ae8h"
      },
      "execution_count": null,
      "outputs": []
    },
    {
      "cell_type": "markdown",
      "source": [
        "# **Data preparation and get chat template**"
      ],
      "metadata": {
        "id": "F5gZyQ1CA0N4"
      }
    },
    {
      "cell_type": "code",
      "source": [
        "from unsloth.chat_templates import get_chat_template\n",
        "from datasets import Dataset, DatasetDict\n",
        "tokenizer = get_chat_template(\n",
        "    tokenizer,\n",
        "    chat_template = \"phi-3\", # Supports zephyr, chatml, mistral, llama, alpaca, vicuna, vicuna_old, unsloth\n",
        "    mapping = {\"role\" : \"from\", \"content\" : \"value\", \"user\" : \"human\", \"assistant\" : \"gpt\"}, # ShareGPT style\n",
        ")\n",
        "\n",
        "def formatting_prompts_func(examples):\n",
        "    convos = examples[\"conversations\"]\n",
        "    texts = [tokenizer.apply_chat_template(convo, tokenize = False, add_generation_prompt = False) for convo in convos]\n",
        "    return { \"text\" : texts, }\n",
        "pass\n",
        "\n",
        "#Add more data or change this data\n",
        "dataset_list = [\n",
        "    [\n",
        "        { \"from\": \"human\", \"value\": \"Hi, I'm new here.\" },\n",
        "        { \"from\": \"gpt\", \"value\": \"Welcome! I'm here to help you get started. First, let's get you set up with the basics. Do you have access to your company email?\" },\n",
        "        { \"from\": \"human\", \"value\": \"Yes I have access to company email\" },\n",
        "        { \"from\": \"gpt\", \"value\": \"Great! Here are the basic used apps:\\n\\n- We Use Microsoft Teams for team communication.\\n- Gitlab for project management.\\n- VS Code, Intellij or your preferred IDE for coding.\\nThe installation of any software will require permission from IT.\\nIf you need to know if an app is allowed to be installed, just let me know!\" }\n",
        "    ],\n",
        "    [\n",
        "        { \"from\": \"human\", \"value\": \"What should I do first to setting up development environment?\" },\n",
        "        { \"from\": \"gpt\", \"value\": \"First, let's get your development environment set up. Here are the steps:\\n1. Clone the main project repository from GitLab.\\n2. Install the necessary dependencies listed in the README file.\\n3. Set up your local development environment by following the setup guide in the project wiki.\\nWould you like detailed instructions for any of these steps?\" }\n",
        "    ],\n",
        "    [\n",
        "        { \"from\": \"human\", \"value\": \"I need to request for an annual leave. How do I do that?\" },\n",
        "        { \"from\": \"gpt\", \"value\": \"Please follow the above steps:\\n1. Go to the company intranet page at `espace.cih.ma`.\\n2. Log in with your session credentials.\\n3. Navigate to the 'Mes absences' section and click on 'Demande de congé'.\\n4. Fill in the form\\n\\nIf you don't have access or encounter any issues, please contact the IT support team.\" }\n",
        "    ],\n",
        "    [\n",
        "        { \"from\": \"human\", \"value\": \"Which Databases tools may I install?\" },\n",
        "        { \"from\": \"gpt\", \"value\": \"You should install one of the following tools:\\n1. DBeaver\\n2. SQL Developer\\n3. Toad\" }\n",
        "    ],\n",
        "    [\n",
        "        { \"from\": \"human\", \"value\": \"What are the allowed apps?\" },\n",
        "        { \"from\": \"gpt\", \"value\": \"Data Integration Tools:\\n\\n- Talend DI\\n\\nVisualization Tools:\\n\\n- Power BI Desktop\\n- Superset\\n\\nDatabases:\\n\\n- Oracle\\n- Mongo DB\" }\n",
        "    ],\n",
        "    [\n",
        "        { \"from\": \"human\", \"value\": \"Salut, je suis nouveau ici.\" },\n",
        "        { \"from\": \"gpt\", \"value\": \"Accueillir! Je suis ici pour vous aider à démarrer. Tout d'abord, faisons de la configuration avec les bases. Avez-vous accès à l'e-mail de votre entreprise?\" },\n",
        "        { \"from\": \"human\", \"value\": \"Oui j'ai accès à l'e-mail de l'entreprise\" },\n",
        "        { \"from\": \"gpt\", \"value\": \"Super! Voici les applications d'occasion de base:\\n\\n- Nous utilisons des équipes Microsoft pour la communication d'équipe.\\n- Gitlab pour la gestion de projet.\\n- VS Code, Intellij ou votre IDE préféré pour le codage.\\nL'installation de tout logiciel nécessitera une autorisation.\\nSi vous avez besoin de savoir si une application est autorisée à être installée, faites-le moi savoir!\" }\n",
        "    ],\n",
        "    [\n",
        "        { \"from\": \"human\", \"value\": \"Que dois-je faire en premier pour mettre en place un environnement de développement?\" },\n",
        "        { \"from\": \"gpt\", \"value\": \"Tout d'abord, faisons la configuration de votre environnement de développement. Voici les étapes:\\n1. Clone le référentiel de projet principal de GitLab.\\n2. Installez les dépendances nécessaires répertoriées dans le fichier ReadMe.\\n3. Configurez votre environnement de développement local en suivant le guide de configuration du Wiki du projet.\\nSouhaitez-vous des instructions détaillées pour l'une de ces étapes?\" }\n",
        "    ],\n",
        "    [\n",
        "        { \"from\": \"human\", \"value\": \"J'ai besoin de demander un congé annuel. Comment je fais ça?\" },\n",
        "        { \"from\": \"gpt\", \"value\": \"Veuillez suivre les étapes ci-dessus:\\n1. Accédez à la page Intranet de l'entreprise à `espace.cih.ma`.\\n2. Connectez-vous avec vos informations d'identification de session.\\n3. Accédez à la section «Absences MES» et cliquez sur «Demande de Congé».\\n4. Remplissez le formulaire\\n\\nSi vous n'avez pas accès ou ne rencontre aucun problème, veuillez contacter l'équipe d'assistance informatique.\" }\n",
        "    ],\n",
        "    [\n",
        "        { \"from\": \"human\", \"value\": \"Quels outils de bases de données puis-je installer?\" },\n",
        "        { \"from\": \"gpt\", \"value\": \"Vous devez installer l'un des outils suivants:\\n1. DBeaver\\n2. SQL Developer\\n3. Toad\" }\n",
        "    ],\n",
        "    [\n",
        "        { \"from\": \"human\", \"value\": \"Quelles sont les applications autorisées?\" },\n",
        "        { \"from\": \"gpt\", \"value\": \"Outils d'intégration des données:\\n\\n- Talend DI\\n\\nOutils de visualisation:\\n\\n- Power BI Desktop\\n- SuperSet\\n\\nBases de Données:\\n\\n- Oracle\\n- Mongo DB\" }\n",
        "    ],\n",
        "    [\n",
        "        { \"from\": \"human\", \"value\": \"How are you?\" },\n",
        "        { \"from\": \"gpt\", \"value\": \"I'm a chatbot created by CIH IT TEAMS, here to assist you with any questions you have.\" }\n",
        "    ],\n",
        "    [\n",
        "        { \"from\": \"human\", \"value\": \"Hi, I'm new here.\" },\n",
        "        { \"from\": \"gpt\", \"value\": \"Welcome aboard! I'm here to assist you in getting started. Do you have access to your company email?\" },\n",
        "        { \"from\": \"human\", \"value\": \"Yes, I have access to company email.\" },\n",
        "        { \"from\": \"gpt\", \"value\": \"Excellent! Here are the basic apps we use:\\n\\n- Microsoft Teams for communication.\\n- Gitlab for project management.\\n- VS Code, IntelliJ, or your preferred IDE for coding.\\nYou'll need IT approval for any software installations. Let me know if you need to check if an app is allowed.\" }\n",
        "    ],\n",
        "    [\n",
        "        { \"from\": \"human\", \"value\": \"What should I do first to set up my development environment?\" },\n",
        "        { \"from\": \"gpt\", \"value\": \"Let's get your development environment set up. Here are the steps:\\n1. Clone the main project repository from GitLab.\\n2. Install the dependencies listed in the README file.\\n3. Follow the setup guide in the project wiki to configure your local environment.\\nWould you like detailed instructions for any of these steps?\" }\n",
        "    ],\n",
        "    [\n",
        "        { \"from\": \"human\", \"value\": \"I need to request an annual leave. How do I do that?\" },\n",
        "        { \"from\": \"gpt\", \"value\": \"Here's how to request annual leave:\\n1. Visit the company intranet at `espace.cih.ma`.\\n2. Log in with your session credentials.\\n3. Go to the 'Mes absences' section and click on 'Demande de congé'.\\n4. Fill out the form.\\n\\nIf you don't have access or encounter issues, contact IT support.\" }\n",
        "    ],\n",
        "    [\n",
        "        { \"from\": \"human\", \"value\": \"Which database tools can I install?\" },\n",
        "        { \"from\": \"gpt\", \"value\": \"You can install any of the following database tools:\\n1. DBeaver\\n2. SQL Developer\\n3. Toad\" }\n",
        "    ],\n",
        "    [\n",
        "        { \"from\": \"human\", \"value\": \"What applications are allowed?\" },\n",
        "        { \"from\": \"gpt\", \"value\": \"The allowed applications include:\\n\\nData Integration Tools:\\n- Talend DI\\n\\nVisualization Tools:\\n- Power BI Desktop\\n- Superset\\n\\nDatabases:\\n- Oracle\\n- MongoDB\" }\n",
        "    ],\n",
        "    [\n",
        "        { \"from\": \"human\", \"value\": \"Salut, je suis nouveau ici.\" },\n",
        "        { \"from\": \"gpt\", \"value\": \"Bienvenue! Je suis là pour vous aider à démarrer. Avez-vous accès à l'email de votre entreprise?\" },\n",
        "        { \"from\": \"human\", \"value\": \"Oui, j'ai accès à l'email de l'entreprise.\" },\n",
        "        { \"from\": \"gpt\", \"value\": \"Parfait! Voici les applications de base que nous utilisons:\\n\\n- Microsoft Teams pour la communication d'équipe.\\n- Gitlab pour la gestion de projet.\\n- VS Code, IntelliJ ou votre IDE préféré pour coder.\\nL'installation de logiciels nécessite une autorisation. Faites-moi savoir si vous avez besoin de vérifier si une application est autorisée.\" }\n",
        "    ],\n",
        "    [\n",
        "        { \"from\": \"human\", \"value\": \"Que dois-je faire en premier pour mettre en place un environnement de développement?\" },\n",
        "        { \"from\": \"gpt\", \"value\": \"Voici comment configurer votre environnement de développement:\\n1. Clonez le dépôt principal depuis GitLab.\\n2. Installez les dépendances indiquées dans le fichier README.\\n3. Suivez le guide de configuration dans le wiki du projet pour configurer votre environnement local.\\nSouhaitez-vous des instructions détaillées pour l'une de ces étapes?\" }\n",
        "    ],\n",
        "    [\n",
        "        { \"from\": \"human\", \"value\": \"J'ai besoin de demander un congé annuel. Comment faire?\" },\n",
        "        { \"from\": \"gpt\", \"value\": \"Pour demander un congé annuel, suivez ces étapes:\\n1. Accédez à la page intranet de l'entreprise à `espace.cih.ma`.\\n2. Connectez-vous avec vos identifiants de session.\\n3. Allez à la section 'Mes absences' et cliquez sur 'Demande de congé'.\\n4. Remplissez le formulaire.\\n\\nSi vous rencontrez des problèmes, contactez l'assistance informatique.\" }\n",
        "    ],\n",
        "    [\n",
        "        { \"from\": \"human\", \"value\": \"Quels outils de bases de données puis-je installer?\" },\n",
        "        { \"from\": \"gpt\", \"value\": \"Vous pouvez installer l'un des outils suivants:\\n1. DBeaver\\n2. SQL Developer\\n3. Toad\" }\n",
        "    ],\n",
        "    [\n",
        "        { \"from\": \"human\", \"value\": \"Quelles sont les applications autorisées?\" },\n",
        "        { \"from\": \"gpt\", \"value\": \"Les applications autorisées sont:\\n\\nOutils d'intégration des données:\\n- Talend DI\\n\\nOutils de visualisation:\\n- Power BI Desktop\\n- Superset\\n\\nBases de données:\\n- Oracle\\n- MongoDB\" }\n",
        "    ],\n",
        "    [\n",
        "        { \"from\": \"human\", \"value\": \"Who are you?\" },\n",
        "        { \"from\": \"gpt\", \"value\": \"I'm a chatbot created by CIH IT TEAMS, here to assist you with any questions you may have.\" }\n",
        "    ],\n",
        "    [\n",
        "        { \"from\": \"human\", \"value\": \"Who created you ?\" },\n",
        "        { \"from\": \"gpt\", \"value\": \"I'm a chatbot developed by CIH IT TEAMS, ready to help you with your queries.\" }\n",
        "    ],\n",
        "    [\n",
        "        { \"from\": \"human\", \"value\": \"Who mad u ?\" },\n",
        "        { \"from\": \"gpt\", \"value\": \"I'm a chatbot created by CIH IT TEAMS, here to assist you.\" }\n",
        "    ],\n",
        "    [\n",
        "    {\n",
        "        \"from\": \"human\",\n",
        "        \"value\": \"Qui êtes-vous ?\"\n",
        "    },\n",
        "    {\n",
        "        \"from\": \"gpt\",\n",
        "        \"value\": \"Je suis un chatbot créé par les équipes informatiques de CIH, ici pour vous aider avec toutes vos questions.\"\n",
        "    }\n",
        "    ],\n",
        "    [\n",
        "    {\n",
        "        \"from\": \"human\",\n",
        "        \"value\": \"Qui vous a créé ?\"\n",
        "    },\n",
        "    {\n",
        "        \"from\": \"gpt\",\n",
        "        \"value\": \"Je suis un chatbot développé par les équipes informatiques de CIH, prêt à vous aider avec vos requêtes.\"\n",
        "    }\n",
        "    ],\n",
        "    [\n",
        "    {\n",
        "        \"from\": \"human\",\n",
        "        \"value\": \"Qui t'a fait ?\"\n",
        "    },\n",
        "    {\n",
        "        \"from\": \"gpt\",\n",
        "        \"value\": \"Je suis un chatbot créé par les équipes informatiques de CIH, ici pour vous assister.\"\n",
        "    }\n",
        "    ],\n",
        "      [\n",
        "        { \"from\": \"human\", \"value\": \"سلام، أنا جديد هنا.\" },\n",
        "        { \"from\": \"gpt\", \"value\": \"مرحبا بك! أنا هنا باش نعاونك تبدا. واش عندك الولوج لإيميل الشركة؟\" },\n",
        "        { \"from\": \"human\", \"value\": \"إيه، عندي الولوج لإيميل الشركة.\" },\n",
        "        { \"from\": \"gpt\", \"value\": \"مزيان! ها التطبيقات اللي كا نستعملو:\\n\\n- كنستعملو Microsoft Teams للتواصل مع الفريق.\\n- GitLab لإدارة المشاريع.\\n- VS Code، IntelliJ ولا أي IDE كتفضلها للبرمجة.\\nتركيب أي برنامج كيحتاج إذن من IT. إلا بغيتي تعرف واش البرنامج مسموح بيه ولا لا، قولها ليا!\" }\n",
        "    ],\n",
        "    [\n",
        "        { \"from\": \"human\", \"value\": \"أشنو ندير أول حاجة باش نضبط بيئة التطوير ديالي؟\" },\n",
        "        { \"from\": \"gpt\", \"value\": \"أول حاجة نديروها هي نضبطو بيئة التطوير ديالك. ها المراحل:\\n1. كتلون المشروع الرئيسي من GitLab.\\n2. كتركب المتطلبات المذكورة في ملف README.\\n3. كتضبط بيئة التطوير المحلية ديالك باتباع دليل الإعداد في الويكي ديال المشروع.\\nواش بغيتي تعليمات مفصلة لأي خطوة من هاد الخطوات؟\" }\n",
        "    ],\n",
        "    [\n",
        "        { \"from\": \"human\", \"value\": \"بغيت نطلب عطلة سنوية. كيفاش ندير؟\" },\n",
        "        { \"from\": \"gpt\", \"value\": \"اتبع هاد الخطوات:\\n1. سير لصفحة الإنترانت ديال الشركة `espace.cih.ma`.\\n2. سجل دخولك بمعلومات الجلسة ديالك.\\n3. مشي لقسم 'Mes absences' وكليك على 'Demande de congé'.\\n4. عَمر الفورم.\\n\\nإلا ماعندكش الولوج أو واجهتي مشاكل، تاصل بفريق الدعم التقني.\" }\n",
        "    ],\n",
        "    [\n",
        "        { \"from\": \"human\", \"value\": \"شنو هما الأدوات ديال قواعد البيانات اللي نقدر نركب؟\" },\n",
        "        { \"from\": \"gpt\", \"value\": \"خصك تركب واحد من هاد الأدوات:\\n1. DBeaver\\n2. SQL Developer\\n3. Toad\" }\n",
        "    ],\n",
        "    [\n",
        "        { \"from\": \"human\", \"value\": \"شنو هما التطبيقات المسموح بيها؟\" },\n",
        "        { \"from\": \"gpt\", \"value\": \"أدوات دمج البيانات:\\n\\n- Talend DI\\n\\nأدوات التصور:\\n\\n- Power BI Desktop\\n- Superset\\n\\nقواعد البيانات:\\n\\n- Oracle\\n- MongoDB\" }\n",
        "    ],\n",
        "    [\n",
        "        { \"from\": \"human\", \"value\": \"سلام، أنا جديد هنا.\" },\n",
        "        { \"from\": \"gpt\", \"value\": \"مرحبا بك! أنا هنا باش نعاونك تبدا. واش عندك الولوج لإيميل الشركة؟\" },\n",
        "        { \"from\": \"human\", \"value\": \"إيه، عندي الولوج لإيميل الشركة.\" },\n",
        "        { \"from\": \"gpt\", \"value\": \"مزيان! ها التطبيقات اللي كا نستعملو:\\n\\n- كنستعملو Microsoft Teams للتواصل مع الفريق.\\n- GitLab لإدارة المشاريع.\\n- VS Code، IntelliJ ولا أي IDE كتفضلها للبرمجة.\\nتركيب أي برنامج كيحتاج إذن من IT. إلا بغيتي تعرف واش البرنامج مسموح بيه ولا لا، قولها ليا!\" }\n",
        "    ],\n",
        "    [\n",
        "        { \"from\": \"human\", \"value\": \"أشنو ندير أول حاجة باش نضبط بيئة التطوير ديالي؟\" },\n",
        "        { \"from\": \"gpt\", \"value\": \"أول حاجة نديروها هي نضبطو بيئة التطوير ديالك. ها المراحل:\\n1. كتلون المشروع الرئيسي من GitLab.\\n2. كتركب المتطلبات المذكورة في ملف README.\\n3. كتضبط بيئة التطوير المحلية ديالك باتباع دليل الإعداد في الويكي ديال المشروع.\\nواش بغيتي تعليمات مفصلة لأي خطوة من هاد الخطوات؟\" }\n",
        "    ],\n",
        "    [\n",
        "        { \"from\": \"human\", \"value\": \"بغيت نطلب عطلة سنوية. كيفاش ندير؟\" },\n",
        "        { \"from\": \"gpt\", \"value\": \"اتبع هاد الخطوات:\\n1. سير لصفحة الإنترانت ديال الشركة `espace.cih.ma`.\\n2. سجل دخولك بمعلومات الجلسة ديالك.\\n3. مشي لقسم 'Mes absences' وكليك على 'Demande de congé'.\\n4. عَمر الفورم.\\n\\nإلا ماعندكش الولوج أو واجهتي مشاكل، تاصل بفريق الدعم التقني.\" }\n",
        "    ],\n",
        "    [\n",
        "        { \"from\": \"human\", \"value\": \"شنو هما الأدوات ديال قواعد البيانات اللي نقدر نركب؟\" },\n",
        "        { \"from\": \"gpt\", \"value\": \"خصك تركب واحد من هاد الأدوات:\\n1. DBeaver\\n2. SQL Developer\\n3. Toad\" }\n",
        "    ],\n",
        "    [\n",
        "        { \"from\": \"human\", \"value\": \"شنو هما التطبيقات المسموح بيها؟\" },\n",
        "        { \"from\": \"gpt\", \"value\": \"أدوات دمج البيانات:\\n\\n- Talend DI\\n\\nأدوات التصور:\\n\\n- Power BI Desktop\\n- Superset\\n\\nقواعد البيانات:\\n\\n- Oracle\\n- MongoDB\" }\n",
        "    ],\n",
        "    [\n",
        "    {\n",
        "        \"from\": \"human\",\n",
        "        \"value\": \"شكون صاوبك؟\"\n",
        "    },\n",
        "    {\n",
        "        \"from\": \"gpt\",\n",
        "        \"value\": \"أنا بوت ديال الشات مخلوق من طرف CIH IT TEAMS، هنا باش نعاونك.\"\n",
        "    }\n",
        "],\n",
        "   [\n",
        "     {\n",
        "        \"from\": \"human\",\n",
        "        \"value\": \"شكون اللي صاوبك؟\"\n",
        "    },\n",
        "    {\n",
        "        \"from\": \"gpt\",\n",
        "        \"value\": \"أنا بوت ديال الشات مخلوق من طرف CIH IT TEAMS، مستعد نعاونك.\"\n",
        "    }\n",
        "    ],\n",
        "    [\n",
        "    {\n",
        "        \"from\": \"human\",\n",
        "        \"value\": \"منين جيتي؟\"\n",
        "    },\n",
        "    {\n",
        "        \"from\": \"gpt\",\n",
        "        \"value\": \"أنا بوت ديال الشات مخلوق من طرف CIH IT TEAMS، هنا باش نعاونك.\"\n",
        "    }\n",
        "    ]\n",
        "]\n",
        "dataset = Dataset.from_dict({\"conversations\": dataset_list})\n",
        "formatted_dataset = dataset.map(formatting_prompts_func, batched = True)\n",
        "print(formatted_dataset[5][\"conversations\"])"
      ],
      "metadata": {
        "id": "Y9jEXACmA1pe"
      },
      "execution_count": null,
      "outputs": []
    },
    {
      "cell_type": "code",
      "source": [
        "unsloth_template = \\\n",
        "    \"{{ bos_token }}\"\\\n",
        "    \"{{ 'You are a helpful assistant to the user\\n' }}\"\\\n",
        "    \"{% for message in messages %}\"\\\n",
        "        \"{% if message['role'] == 'user' %}\"\\\n",
        "            \"{{ '>>> User: ' + message['content'] + '\\n' }}\"\\\n",
        "        \"{% elif message['role'] == 'assistant' %}\"\\\n",
        "            \"{{ '>>> Assistant: ' + message['content'] + eos_token + '\\n' }}\"\\\n",
        "        \"{% endif %}\"\\\n",
        "    \"{% endfor %}\"\\\n",
        "    \"{% if add_generation_prompt %}\"\\\n",
        "        \"{{ '>>> Assistant: ' }}\"\\\n",
        "    \"{% endif %}\"\n",
        "unsloth_eos_token = \"eos_token\"\n",
        "\n",
        "if False:\n",
        "    tokenizer = get_chat_template(\n",
        "        tokenizer,\n",
        "        chat_template = (unsloth_template, unsloth_eos_token,), # You must provide a template and EOS token\n",
        "        mapping = {\"role\" : \"from\", \"content\" : \"value\", \"user\" : \"human\", \"assistant\" : \"gpt\"}, # ShareGPT style\n",
        "        map_eos_token = True, # Maps <|im_end|> to </s> instead\n",
        "    )"
      ],
      "metadata": {
        "id": "OsncJWUSBHw5"
      },
      "execution_count": null,
      "outputs": []
    },
    {
      "cell_type": "markdown",
      "source": [
        "#**Training**"
      ],
      "metadata": {
        "id": "zGy-Z8moCCAp"
      }
    },
    {
      "cell_type": "code",
      "source": [
        "from trl import SFTTrainer\n",
        "from transformers import TrainingArguments\n",
        "from unsloth import is_bfloat16_supported\n",
        "\n",
        "trainer = SFTTrainer(\n",
        "    model=model,\n",
        "    tokenizer=tokenizer,\n",
        "    train_dataset=formatted_dataset,\n",
        "    dataset_text_field=\"text\",\n",
        "    max_seq_length=max_seq_length,\n",
        "    dataset_num_proc=2,\n",
        "    packing=False,\n",
        "    args=TrainingArguments(\n",
        "        per_device_train_batch_size=2,\n",
        "        gradient_accumulation_steps=4,\n",
        "        warmup_steps=5,\n",
        "        max_steps=50,\n",
        "        learning_rate=2e-4,\n",
        "        fp16=not is_bfloat16_supported(),\n",
        "        bf16=is_bfloat16_supported(),\n",
        "        logging_steps=1,  # Adjust logging steps as needed\n",
        "        optim=\"adamw_8bit\",\n",
        "        weight_decay=0.01,\n",
        "        lr_scheduler_type=\"linear\",\n",
        "        seed=3407,\n",
        "        output_dir=\"outputs\",\n",
        "        report_to=None  # Disable wandb logging\n",
        "    ),\n",
        ")\n"
      ],
      "metadata": {
        "id": "JEjmyCggCBuf"
      },
      "execution_count": null,
      "outputs": []
    },
    {
      "cell_type": "code",
      "source": [
        "trainer_stats = trainer.train()"
      ],
      "metadata": {
        "id": "GDNNyXJqCP1l"
      },
      "execution_count": null,
      "outputs": []
    },
    {
      "cell_type": "markdown",
      "source": [
        "#**Testing**"
      ],
      "metadata": {
        "id": "5TCLTCyYCTA2"
      }
    },
    {
      "cell_type": "code",
      "source": [
        "FastLanguageModel.for_inference(model) # Enable native 2x faster inference\n",
        "# Change value with any question you want your chat to reply\n",
        "messages = [\n",
        "    {\"from\": \"human\", \"value\": \"Who are you?\"},\n",
        "]\n",
        "inputs = tokenizer.apply_chat_template(\n",
        "    messages,\n",
        "    tokenize = True,\n",
        "    add_generation_prompt = True, # Must add for generation\n",
        "    return_tensors = \"pt\",\n",
        ").to(\"cuda\")\n",
        "\n",
        "from transformers import TextStreamer\n",
        "text_streamer = TextStreamer(tokenizer)\n",
        "_ = model.generate(input_ids = inputs, streamer = text_streamer, max_new_tokens = 128, use_cache = True)"
      ],
      "metadata": {
        "id": "yOBA5RvaCQbX"
      },
      "execution_count": null,
      "outputs": []
    },
    {
      "cell_type": "markdown",
      "source": [
        "#**Last thing to do save the model for reuse**"
      ],
      "metadata": {
        "id": "bXb5xsDcDq9k"
      }
    },
    {
      "cell_type": "code",
      "source": [
        "# PUT YOUR USERNAME, NAME THE MODEL AND UR TOKEN FROM HUGGINGFACE\n",
        "model.push_to_hub(\"urusername/name_model\", token = \"your_token\") # Online saving\n",
        "model.push_to_hub_merged(\"urusername/name_model\", tokenizer, save_method = \"lora\", token = \"ur_token\")"
      ],
      "metadata": {
        "id": "AeE3FDH5D1S2"
      },
      "execution_count": null,
      "outputs": []
    }
  ]
}